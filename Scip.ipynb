{
 "cells": [
  {
   "cell_type": "code",
   "execution_count": 1,
   "id": "c7978fbf-7d9a-4980-af3d-943e147e7e9a",
   "metadata": {},
   "outputs": [],
   "source": [
    "import os\n",
    "import json\n",
    "import math\n",
    "import random\n",
    "import pulp as pl\n",
    "import numpy as np\n",
    "import pandas as pd\n",
    "from matplotlib import pyplot as plt\n",
    "\n",
    "def get_result(model):\n",
    "    print(f\"status: {model.status}, {pl.LpStatus[model.status]}\")\n",
    "    print(f\"objective: {model.objective.value()}\")\n",
    "    for var in model.variables():\n",
    "        print(f\"{var.name}: {var.value()}\")\n",
    "\n",
    "def distance(p_s, p_e):\n",
    "    return math.sqrt((p_s[0] - p_e[0]) ** 2 + (p_s[1] - p_e[1]) ** 2)"
   ]
  },
  {
   "cell_type": "code",
   "execution_count": 5,
   "id": "babb80de-eb84-45d8-9ec4-dba611e1b83f",
   "metadata": {},
   "outputs": [
    {
     "ename": "UnsupportedOperation",
     "evalue": "fileno",
     "output_type": "error",
     "traceback": [
      "\u001b[1;31m---------------------------------------------------------------------------\u001b[0m",
      "\u001b[1;31mUnsupportedOperation\u001b[0m                      Traceback (most recent call last)",
      "Cell \u001b[1;32mIn[5], line 37\u001b[0m\n\u001b[0;32m     34\u001b[0m         \u001b[38;5;28;01mif\u001b[39;00m i \u001b[38;5;241m!=\u001b[39m j:\n\u001b[0;32m     35\u001b[0m             tsp \u001b[38;5;241m+\u001b[39m\u001b[38;5;241m=\u001b[39m u[i] \u001b[38;5;241m-\u001b[39m u[j] \u001b[38;5;241m+\u001b[39m n \u001b[38;5;241m*\u001b[39m x[i, j] \u001b[38;5;241m<\u001b[39m\u001b[38;5;241m=\u001b[39m n \u001b[38;5;241m-\u001b[39m \u001b[38;5;241m1\u001b[39m\n\u001b[1;32m---> 37\u001b[0m tsp\u001b[38;5;241m.\u001b[39msolve(solver)\n\u001b[0;32m     38\u001b[0m show_path(tsp, city_positions)\n",
      "File \u001b[1;32mD:\\ProgramFiles\\Anaconda\\Lib\\site-packages\\pulp\\pulp.py:1867\u001b[0m, in \u001b[0;36mLpProblem.solve\u001b[1;34m(self, solver, **kwargs)\u001b[0m\n\u001b[0;32m   1865\u001b[0m \u001b[38;5;66;03m# time it\u001b[39;00m\n\u001b[0;32m   1866\u001b[0m \u001b[38;5;28mself\u001b[39m\u001b[38;5;241m.\u001b[39mstartClock()\n\u001b[1;32m-> 1867\u001b[0m status \u001b[38;5;241m=\u001b[39m solver\u001b[38;5;241m.\u001b[39mactualSolve(\u001b[38;5;28mself\u001b[39m, \u001b[38;5;241m*\u001b[39m\u001b[38;5;241m*\u001b[39mkwargs)\n\u001b[0;32m   1868\u001b[0m \u001b[38;5;28mself\u001b[39m\u001b[38;5;241m.\u001b[39mstopClock()\n\u001b[0;32m   1869\u001b[0m \u001b[38;5;28mself\u001b[39m\u001b[38;5;241m.\u001b[39mrestoreObjective(wasNone, dummyVar)\n",
      "File \u001b[1;32mD:\\ProgramFiles\\Anaconda\\Lib\\site-packages\\pulp\\apis\\scip_api.py:170\u001b[0m, in \u001b[0;36mSCIP_CMD.actualSolve\u001b[1;34m(self, lp)\u001b[0m\n\u001b[0;32m    168\u001b[0m \u001b[38;5;28;01mwith\u001b[39;00m \u001b[38;5;28mopen\u001b[39m(tmpOptions, \u001b[38;5;124m\"\u001b[39m\u001b[38;5;124mw\u001b[39m\u001b[38;5;124m\"\u001b[39m) \u001b[38;5;28;01mas\u001b[39;00m options_file:\n\u001b[0;32m    169\u001b[0m     options_file\u001b[38;5;241m.\u001b[39mwrite(\u001b[38;5;124m\"\u001b[39m\u001b[38;5;130;01m\\n\u001b[39;00m\u001b[38;5;124m\"\u001b[39m\u001b[38;5;241m.\u001b[39mjoin(file_options))\n\u001b[1;32m--> 170\u001b[0m subprocess\u001b[38;5;241m.\u001b[39mcheck_call(command, stdout\u001b[38;5;241m=\u001b[39msys\u001b[38;5;241m.\u001b[39mstdout, stderr\u001b[38;5;241m=\u001b[39msys\u001b[38;5;241m.\u001b[39mstderr)\n\u001b[0;32m    172\u001b[0m \u001b[38;5;28;01mif\u001b[39;00m \u001b[38;5;129;01mnot\u001b[39;00m os\u001b[38;5;241m.\u001b[39mpath\u001b[38;5;241m.\u001b[39mexists(tmpSol):\n\u001b[0;32m    173\u001b[0m     \u001b[38;5;28;01mraise\u001b[39;00m PulpSolverError(\u001b[38;5;124m\"\u001b[39m\u001b[38;5;124mPuLP: Error while executing \u001b[39m\u001b[38;5;124m\"\u001b[39m \u001b[38;5;241m+\u001b[39m \u001b[38;5;28mself\u001b[39m\u001b[38;5;241m.\u001b[39mpath)\n",
      "File \u001b[1;32mD:\\ProgramFiles\\Anaconda\\Lib\\subprocess.py:408\u001b[0m, in \u001b[0;36mcheck_call\u001b[1;34m(*popenargs, **kwargs)\u001b[0m\n\u001b[0;32m    398\u001b[0m \u001b[38;5;28;01mdef\u001b[39;00m \u001b[38;5;21mcheck_call\u001b[39m(\u001b[38;5;241m*\u001b[39mpopenargs, \u001b[38;5;241m*\u001b[39m\u001b[38;5;241m*\u001b[39mkwargs):\n\u001b[0;32m    399\u001b[0m \u001b[38;5;250m    \u001b[39m\u001b[38;5;124;03m\"\"\"Run command with arguments.  Wait for command to complete.  If\u001b[39;00m\n\u001b[0;32m    400\u001b[0m \u001b[38;5;124;03m    the exit code was zero then return, otherwise raise\u001b[39;00m\n\u001b[0;32m    401\u001b[0m \u001b[38;5;124;03m    CalledProcessError.  The CalledProcessError object will have the\u001b[39;00m\n\u001b[1;32m   (...)\u001b[0m\n\u001b[0;32m    406\u001b[0m \u001b[38;5;124;03m    check_call([\"ls\", \"-l\"])\u001b[39;00m\n\u001b[0;32m    407\u001b[0m \u001b[38;5;124;03m    \"\"\"\u001b[39;00m\n\u001b[1;32m--> 408\u001b[0m     retcode \u001b[38;5;241m=\u001b[39m call(\u001b[38;5;241m*\u001b[39mpopenargs, \u001b[38;5;241m*\u001b[39m\u001b[38;5;241m*\u001b[39mkwargs)\n\u001b[0;32m    409\u001b[0m     \u001b[38;5;28;01mif\u001b[39;00m retcode:\n\u001b[0;32m    410\u001b[0m         cmd \u001b[38;5;241m=\u001b[39m kwargs\u001b[38;5;241m.\u001b[39mget(\u001b[38;5;124m\"\u001b[39m\u001b[38;5;124margs\u001b[39m\u001b[38;5;124m\"\u001b[39m)\n",
      "File \u001b[1;32mD:\\ProgramFiles\\Anaconda\\Lib\\subprocess.py:389\u001b[0m, in \u001b[0;36mcall\u001b[1;34m(timeout, *popenargs, **kwargs)\u001b[0m\n\u001b[0;32m    381\u001b[0m \u001b[38;5;28;01mdef\u001b[39;00m \u001b[38;5;21mcall\u001b[39m(\u001b[38;5;241m*\u001b[39mpopenargs, timeout\u001b[38;5;241m=\u001b[39m\u001b[38;5;28;01mNone\u001b[39;00m, \u001b[38;5;241m*\u001b[39m\u001b[38;5;241m*\u001b[39mkwargs):\n\u001b[0;32m    382\u001b[0m \u001b[38;5;250m    \u001b[39m\u001b[38;5;124;03m\"\"\"Run command with arguments.  Wait for command to complete or\u001b[39;00m\n\u001b[0;32m    383\u001b[0m \u001b[38;5;124;03m    timeout, then return the returncode attribute.\u001b[39;00m\n\u001b[0;32m    384\u001b[0m \n\u001b[1;32m   (...)\u001b[0m\n\u001b[0;32m    387\u001b[0m \u001b[38;5;124;03m    retcode = call([\"ls\", \"-l\"])\u001b[39;00m\n\u001b[0;32m    388\u001b[0m \u001b[38;5;124;03m    \"\"\"\u001b[39;00m\n\u001b[1;32m--> 389\u001b[0m     \u001b[38;5;28;01mwith\u001b[39;00m Popen(\u001b[38;5;241m*\u001b[39mpopenargs, \u001b[38;5;241m*\u001b[39m\u001b[38;5;241m*\u001b[39mkwargs) \u001b[38;5;28;01mas\u001b[39;00m p:\n\u001b[0;32m    390\u001b[0m         \u001b[38;5;28;01mtry\u001b[39;00m:\n\u001b[0;32m    391\u001b[0m             \u001b[38;5;28;01mreturn\u001b[39;00m p\u001b[38;5;241m.\u001b[39mwait(timeout\u001b[38;5;241m=\u001b[39mtimeout)\n",
      "File \u001b[1;32mD:\\ProgramFiles\\Anaconda\\Lib\\subprocess.py:892\u001b[0m, in \u001b[0;36mPopen.__init__\u001b[1;34m(self, args, bufsize, executable, stdin, stdout, stderr, preexec_fn, close_fds, shell, cwd, env, universal_newlines, startupinfo, creationflags, restore_signals, start_new_session, pass_fds, user, group, extra_groups, encoding, errors, text, umask, pipesize, process_group)\u001b[0m\n\u001b[0;32m    871\u001b[0m     \u001b[38;5;28;01mraise\u001b[39;00m SubprocessError(\u001b[38;5;124m'\u001b[39m\u001b[38;5;124mCannot disambiguate when both text \u001b[39m\u001b[38;5;124m'\u001b[39m\n\u001b[0;32m    872\u001b[0m                           \u001b[38;5;124m'\u001b[39m\u001b[38;5;124mand universal_newlines are supplied but \u001b[39m\u001b[38;5;124m'\u001b[39m\n\u001b[0;32m    873\u001b[0m                           \u001b[38;5;124m'\u001b[39m\u001b[38;5;124mdifferent. Pass one or the other.\u001b[39m\u001b[38;5;124m'\u001b[39m)\n\u001b[0;32m    875\u001b[0m \u001b[38;5;66;03m# Input and output objects. The general principle is like\u001b[39;00m\n\u001b[0;32m    876\u001b[0m \u001b[38;5;66;03m# this:\u001b[39;00m\n\u001b[0;32m    877\u001b[0m \u001b[38;5;66;03m#\u001b[39;00m\n\u001b[1;32m   (...)\u001b[0m\n\u001b[0;32m    887\u001b[0m \u001b[38;5;66;03m# are -1 when not using PIPEs. The child objects are -1\u001b[39;00m\n\u001b[0;32m    888\u001b[0m \u001b[38;5;66;03m# when not redirecting.\u001b[39;00m\n\u001b[0;32m    890\u001b[0m (p2cread, p2cwrite,\n\u001b[0;32m    891\u001b[0m  c2pread, c2pwrite,\n\u001b[1;32m--> 892\u001b[0m  errread, errwrite) \u001b[38;5;241m=\u001b[39m \u001b[38;5;28mself\u001b[39m\u001b[38;5;241m.\u001b[39m_get_handles(stdin, stdout, stderr)\n\u001b[0;32m    894\u001b[0m \u001b[38;5;66;03m# We wrap OS handles *before* launching the child, otherwise a\u001b[39;00m\n\u001b[0;32m    895\u001b[0m \u001b[38;5;66;03m# quickly terminating child could make our fds unwrappable\u001b[39;00m\n\u001b[0;32m    896\u001b[0m \u001b[38;5;66;03m# (see #8458).\u001b[39;00m\n\u001b[0;32m    898\u001b[0m \u001b[38;5;28;01mif\u001b[39;00m _mswindows:\n",
      "File \u001b[1;32mD:\\ProgramFiles\\Anaconda\\Lib\\subprocess.py:1357\u001b[0m, in \u001b[0;36mPopen._get_handles\u001b[1;34m(self, stdin, stdout, stderr)\u001b[0m\n\u001b[0;32m   1354\u001b[0m     c2pwrite \u001b[38;5;241m=\u001b[39m msvcrt\u001b[38;5;241m.\u001b[39mget_osfhandle(stdout)\n\u001b[0;32m   1355\u001b[0m \u001b[38;5;28;01melse\u001b[39;00m:\n\u001b[0;32m   1356\u001b[0m     \u001b[38;5;66;03m# Assuming file-like object\u001b[39;00m\n\u001b[1;32m-> 1357\u001b[0m     c2pwrite \u001b[38;5;241m=\u001b[39m msvcrt\u001b[38;5;241m.\u001b[39mget_osfhandle(stdout\u001b[38;5;241m.\u001b[39mfileno())\n\u001b[0;32m   1358\u001b[0m c2pwrite \u001b[38;5;241m=\u001b[39m \u001b[38;5;28mself\u001b[39m\u001b[38;5;241m.\u001b[39m_make_inheritable(c2pwrite)\n\u001b[0;32m   1360\u001b[0m \u001b[38;5;28;01mif\u001b[39;00m stderr \u001b[38;5;129;01mis\u001b[39;00m \u001b[38;5;28;01mNone\u001b[39;00m:\n",
      "File \u001b[1;32mD:\\ProgramFiles\\Anaconda\\Lib\\site-packages\\ipykernel\\iostream.py:311\u001b[0m, in \u001b[0;36mOutStream.fileno\u001b[1;34m(self)\u001b[0m\n\u001b[0;32m    309\u001b[0m     \u001b[38;5;28;01mreturn\u001b[39;00m \u001b[38;5;28mself\u001b[39m\u001b[38;5;241m.\u001b[39m_original_stdstream_copy\n\u001b[0;32m    310\u001b[0m \u001b[38;5;28;01melse\u001b[39;00m:\n\u001b[1;32m--> 311\u001b[0m     \u001b[38;5;28;01mraise\u001b[39;00m io\u001b[38;5;241m.\u001b[39mUnsupportedOperation(\u001b[38;5;124m\"\u001b[39m\u001b[38;5;124mfileno\u001b[39m\u001b[38;5;124m\"\u001b[39m)\n",
      "\u001b[1;31mUnsupportedOperation\u001b[0m: fileno"
     ]
    }
   ],
   "source": [
    "def show_path(model, city_positions):\n",
    "    n = len(city_positions)\n",
    "    # print(f\"status: {model.status}, {pl.LpStatus[model.status]}\")\n",
    "    for i in city_positions:\n",
    "        plt.scatter(i[0], i[1])\n",
    "    # print(len(model.variables()))\n",
    "    # var_names = [x.name for x in model.variables()]\n",
    "    for i in range(n):\n",
    "        for j in range(n):\n",
    "            go = list(filter(lambda x: x.name==f\"x_{i}_{j}\", model.variables()))[0].value()\n",
    "            if go:\n",
    "                plt.plot([city_positions[i][0], city_positions[j][0]], [city_positions[i][1], city_positions[j][1]])\n",
    "                plt.text(city_positions[i][0], city_positions[i][1], \"f\")\n",
    "\n",
    "n = 20\n",
    "random.seed(0)\n",
    "city_positions = [(random.randint(0, 200), random.randint(0, 200)) for _ in range(n)]\n",
    "city_positions.append(city_positions[0])\n",
    "n += 1\n",
    "\n",
    "x = {(i, j): pl.LpVariable(name=f\"x_{i}_{j}\", cat=pl.LpBinary) for i in range(n) for j in range(n)}\n",
    "tsp = pl.LpProblem(name=\"TSP\", sense=pl.LpMinimize)\n",
    "solver = pl.SCIP_CMD(keepFiles=True)\n",
    "tsp += pl.lpSum(x[i, j] * distance(city_positions[i], city_positions[j]) for i in range(n) for j in range(n))\n",
    "for i in range(n):\n",
    "    tsp += pl.lpSum(x[i, j] for j in range(n)) == 1\n",
    "for i in range(1, n):\n",
    "    tsp += pl.lpSum(x[j, i] for j in range(n)) == 1\n",
    "for i in range(n):\n",
    "    tsp += pl.lpSum(x[i, i]) == 0\n",
    "u = [pl.LpVariable(name=f\"{i}\", lowBound=1, upBound=n+1,cat=pl.LpInteger) for i in range(1, n+1)]\n",
    "for i in range(n-1):\n",
    "    for j in range(n):\n",
    "        if i != j:\n",
    "            tsp += u[i] - u[j] + n * x[i, j] <= n - 1\n",
    "\n",
    "tsp.solve(solver)\n",
    "show_path(tsp, city_positions)"
   ]
  },
  {
   "cell_type": "code",
   "execution_count": 4,
   "id": "0ec22869-3d48-4a70-b574-7d653cc95df7",
   "metadata": {},
   "outputs": [
    {
     "ename": "UnsupportedOperation",
     "evalue": "fileno",
     "output_type": "error",
     "traceback": [
      "\u001b[1;31m---------------------------------------------------------------------------\u001b[0m",
      "\u001b[1;31mUnsupportedOperation\u001b[0m                      Traceback (most recent call last)",
      "Cell \u001b[1;32mIn[4], line 19\u001b[0m\n\u001b[0;32m     16\u001b[0m model \u001b[38;5;241m+\u001b[39m\u001b[38;5;241m=\u001b[39m x \u001b[38;5;241m+\u001b[39m \u001b[38;5;241m3\u001b[39m \u001b[38;5;241m*\u001b[39m y\n\u001b[0;32m     18\u001b[0m \u001b[38;5;66;03m# 求解\u001b[39;00m\n\u001b[1;32m---> 19\u001b[0m status \u001b[38;5;241m=\u001b[39m model\u001b[38;5;241m.\u001b[39msolve(solver)\n\u001b[0;32m     21\u001b[0m \u001b[38;5;66;03m# 打印结果\u001b[39;00m\n\u001b[0;32m     22\u001b[0m \u001b[38;5;28mprint\u001b[39m(\u001b[38;5;124mf\u001b[39m\u001b[38;5;124m\"\u001b[39m\u001b[38;5;124mstatus: \u001b[39m\u001b[38;5;132;01m{\u001b[39;00mmodel\u001b[38;5;241m.\u001b[39mstatus\u001b[38;5;132;01m}\u001b[39;00m\u001b[38;5;124m, \u001b[39m\u001b[38;5;132;01m{\u001b[39;00mpl\u001b[38;5;241m.\u001b[39mLpStatus[model\u001b[38;5;241m.\u001b[39mstatus]\u001b[38;5;132;01m}\u001b[39;00m\u001b[38;5;124m\"\u001b[39m)\n",
      "File \u001b[1;32mD:\\ProgramFiles\\Anaconda\\Lib\\site-packages\\pulp\\pulp.py:1867\u001b[0m, in \u001b[0;36mLpProblem.solve\u001b[1;34m(self, solver, **kwargs)\u001b[0m\n\u001b[0;32m   1865\u001b[0m \u001b[38;5;66;03m# time it\u001b[39;00m\n\u001b[0;32m   1866\u001b[0m \u001b[38;5;28mself\u001b[39m\u001b[38;5;241m.\u001b[39mstartClock()\n\u001b[1;32m-> 1867\u001b[0m status \u001b[38;5;241m=\u001b[39m solver\u001b[38;5;241m.\u001b[39mactualSolve(\u001b[38;5;28mself\u001b[39m, \u001b[38;5;241m*\u001b[39m\u001b[38;5;241m*\u001b[39mkwargs)\n\u001b[0;32m   1868\u001b[0m \u001b[38;5;28mself\u001b[39m\u001b[38;5;241m.\u001b[39mstopClock()\n\u001b[0;32m   1869\u001b[0m \u001b[38;5;28mself\u001b[39m\u001b[38;5;241m.\u001b[39mrestoreObjective(wasNone, dummyVar)\n",
      "File \u001b[1;32mD:\\ProgramFiles\\Anaconda\\Lib\\site-packages\\pulp\\apis\\scip_api.py:170\u001b[0m, in \u001b[0;36mSCIP_CMD.actualSolve\u001b[1;34m(self, lp)\u001b[0m\n\u001b[0;32m    168\u001b[0m \u001b[38;5;28;01mwith\u001b[39;00m \u001b[38;5;28mopen\u001b[39m(tmpOptions, \u001b[38;5;124m\"\u001b[39m\u001b[38;5;124mw\u001b[39m\u001b[38;5;124m\"\u001b[39m) \u001b[38;5;28;01mas\u001b[39;00m options_file:\n\u001b[0;32m    169\u001b[0m     options_file\u001b[38;5;241m.\u001b[39mwrite(\u001b[38;5;124m\"\u001b[39m\u001b[38;5;130;01m\\n\u001b[39;00m\u001b[38;5;124m\"\u001b[39m\u001b[38;5;241m.\u001b[39mjoin(file_options))\n\u001b[1;32m--> 170\u001b[0m subprocess\u001b[38;5;241m.\u001b[39mcheck_call(command, stdout\u001b[38;5;241m=\u001b[39msys\u001b[38;5;241m.\u001b[39mstdout, stderr\u001b[38;5;241m=\u001b[39msys\u001b[38;5;241m.\u001b[39mstderr)\n\u001b[0;32m    172\u001b[0m \u001b[38;5;28;01mif\u001b[39;00m \u001b[38;5;129;01mnot\u001b[39;00m os\u001b[38;5;241m.\u001b[39mpath\u001b[38;5;241m.\u001b[39mexists(tmpSol):\n\u001b[0;32m    173\u001b[0m     \u001b[38;5;28;01mraise\u001b[39;00m PulpSolverError(\u001b[38;5;124m\"\u001b[39m\u001b[38;5;124mPuLP: Error while executing \u001b[39m\u001b[38;5;124m\"\u001b[39m \u001b[38;5;241m+\u001b[39m \u001b[38;5;28mself\u001b[39m\u001b[38;5;241m.\u001b[39mpath)\n",
      "File \u001b[1;32mD:\\ProgramFiles\\Anaconda\\Lib\\subprocess.py:408\u001b[0m, in \u001b[0;36mcheck_call\u001b[1;34m(*popenargs, **kwargs)\u001b[0m\n\u001b[0;32m    398\u001b[0m \u001b[38;5;28;01mdef\u001b[39;00m \u001b[38;5;21mcheck_call\u001b[39m(\u001b[38;5;241m*\u001b[39mpopenargs, \u001b[38;5;241m*\u001b[39m\u001b[38;5;241m*\u001b[39mkwargs):\n\u001b[0;32m    399\u001b[0m \u001b[38;5;250m    \u001b[39m\u001b[38;5;124;03m\"\"\"Run command with arguments.  Wait for command to complete.  If\u001b[39;00m\n\u001b[0;32m    400\u001b[0m \u001b[38;5;124;03m    the exit code was zero then return, otherwise raise\u001b[39;00m\n\u001b[0;32m    401\u001b[0m \u001b[38;5;124;03m    CalledProcessError.  The CalledProcessError object will have the\u001b[39;00m\n\u001b[1;32m   (...)\u001b[0m\n\u001b[0;32m    406\u001b[0m \u001b[38;5;124;03m    check_call([\"ls\", \"-l\"])\u001b[39;00m\n\u001b[0;32m    407\u001b[0m \u001b[38;5;124;03m    \"\"\"\u001b[39;00m\n\u001b[1;32m--> 408\u001b[0m     retcode \u001b[38;5;241m=\u001b[39m call(\u001b[38;5;241m*\u001b[39mpopenargs, \u001b[38;5;241m*\u001b[39m\u001b[38;5;241m*\u001b[39mkwargs)\n\u001b[0;32m    409\u001b[0m     \u001b[38;5;28;01mif\u001b[39;00m retcode:\n\u001b[0;32m    410\u001b[0m         cmd \u001b[38;5;241m=\u001b[39m kwargs\u001b[38;5;241m.\u001b[39mget(\u001b[38;5;124m\"\u001b[39m\u001b[38;5;124margs\u001b[39m\u001b[38;5;124m\"\u001b[39m)\n",
      "File \u001b[1;32mD:\\ProgramFiles\\Anaconda\\Lib\\subprocess.py:389\u001b[0m, in \u001b[0;36mcall\u001b[1;34m(timeout, *popenargs, **kwargs)\u001b[0m\n\u001b[0;32m    381\u001b[0m \u001b[38;5;28;01mdef\u001b[39;00m \u001b[38;5;21mcall\u001b[39m(\u001b[38;5;241m*\u001b[39mpopenargs, timeout\u001b[38;5;241m=\u001b[39m\u001b[38;5;28;01mNone\u001b[39;00m, \u001b[38;5;241m*\u001b[39m\u001b[38;5;241m*\u001b[39mkwargs):\n\u001b[0;32m    382\u001b[0m \u001b[38;5;250m    \u001b[39m\u001b[38;5;124;03m\"\"\"Run command with arguments.  Wait for command to complete or\u001b[39;00m\n\u001b[0;32m    383\u001b[0m \u001b[38;5;124;03m    timeout, then return the returncode attribute.\u001b[39;00m\n\u001b[0;32m    384\u001b[0m \n\u001b[1;32m   (...)\u001b[0m\n\u001b[0;32m    387\u001b[0m \u001b[38;5;124;03m    retcode = call([\"ls\", \"-l\"])\u001b[39;00m\n\u001b[0;32m    388\u001b[0m \u001b[38;5;124;03m    \"\"\"\u001b[39;00m\n\u001b[1;32m--> 389\u001b[0m     \u001b[38;5;28;01mwith\u001b[39;00m Popen(\u001b[38;5;241m*\u001b[39mpopenargs, \u001b[38;5;241m*\u001b[39m\u001b[38;5;241m*\u001b[39mkwargs) \u001b[38;5;28;01mas\u001b[39;00m p:\n\u001b[0;32m    390\u001b[0m         \u001b[38;5;28;01mtry\u001b[39;00m:\n\u001b[0;32m    391\u001b[0m             \u001b[38;5;28;01mreturn\u001b[39;00m p\u001b[38;5;241m.\u001b[39mwait(timeout\u001b[38;5;241m=\u001b[39mtimeout)\n",
      "File \u001b[1;32mD:\\ProgramFiles\\Anaconda\\Lib\\subprocess.py:892\u001b[0m, in \u001b[0;36mPopen.__init__\u001b[1;34m(self, args, bufsize, executable, stdin, stdout, stderr, preexec_fn, close_fds, shell, cwd, env, universal_newlines, startupinfo, creationflags, restore_signals, start_new_session, pass_fds, user, group, extra_groups, encoding, errors, text, umask, pipesize, process_group)\u001b[0m\n\u001b[0;32m    871\u001b[0m     \u001b[38;5;28;01mraise\u001b[39;00m SubprocessError(\u001b[38;5;124m'\u001b[39m\u001b[38;5;124mCannot disambiguate when both text \u001b[39m\u001b[38;5;124m'\u001b[39m\n\u001b[0;32m    872\u001b[0m                           \u001b[38;5;124m'\u001b[39m\u001b[38;5;124mand universal_newlines are supplied but \u001b[39m\u001b[38;5;124m'\u001b[39m\n\u001b[0;32m    873\u001b[0m                           \u001b[38;5;124m'\u001b[39m\u001b[38;5;124mdifferent. Pass one or the other.\u001b[39m\u001b[38;5;124m'\u001b[39m)\n\u001b[0;32m    875\u001b[0m \u001b[38;5;66;03m# Input and output objects. The general principle is like\u001b[39;00m\n\u001b[0;32m    876\u001b[0m \u001b[38;5;66;03m# this:\u001b[39;00m\n\u001b[0;32m    877\u001b[0m \u001b[38;5;66;03m#\u001b[39;00m\n\u001b[1;32m   (...)\u001b[0m\n\u001b[0;32m    887\u001b[0m \u001b[38;5;66;03m# are -1 when not using PIPEs. The child objects are -1\u001b[39;00m\n\u001b[0;32m    888\u001b[0m \u001b[38;5;66;03m# when not redirecting.\u001b[39;00m\n\u001b[0;32m    890\u001b[0m (p2cread, p2cwrite,\n\u001b[0;32m    891\u001b[0m  c2pread, c2pwrite,\n\u001b[1;32m--> 892\u001b[0m  errread, errwrite) \u001b[38;5;241m=\u001b[39m \u001b[38;5;28mself\u001b[39m\u001b[38;5;241m.\u001b[39m_get_handles(stdin, stdout, stderr)\n\u001b[0;32m    894\u001b[0m \u001b[38;5;66;03m# We wrap OS handles *before* launching the child, otherwise a\u001b[39;00m\n\u001b[0;32m    895\u001b[0m \u001b[38;5;66;03m# quickly terminating child could make our fds unwrappable\u001b[39;00m\n\u001b[0;32m    896\u001b[0m \u001b[38;5;66;03m# (see #8458).\u001b[39;00m\n\u001b[0;32m    898\u001b[0m \u001b[38;5;28;01mif\u001b[39;00m _mswindows:\n",
      "File \u001b[1;32mD:\\ProgramFiles\\Anaconda\\Lib\\subprocess.py:1357\u001b[0m, in \u001b[0;36mPopen._get_handles\u001b[1;34m(self, stdin, stdout, stderr)\u001b[0m\n\u001b[0;32m   1354\u001b[0m     c2pwrite \u001b[38;5;241m=\u001b[39m msvcrt\u001b[38;5;241m.\u001b[39mget_osfhandle(stdout)\n\u001b[0;32m   1355\u001b[0m \u001b[38;5;28;01melse\u001b[39;00m:\n\u001b[0;32m   1356\u001b[0m     \u001b[38;5;66;03m# Assuming file-like object\u001b[39;00m\n\u001b[1;32m-> 1357\u001b[0m     c2pwrite \u001b[38;5;241m=\u001b[39m msvcrt\u001b[38;5;241m.\u001b[39mget_osfhandle(stdout\u001b[38;5;241m.\u001b[39mfileno())\n\u001b[0;32m   1358\u001b[0m c2pwrite \u001b[38;5;241m=\u001b[39m \u001b[38;5;28mself\u001b[39m\u001b[38;5;241m.\u001b[39m_make_inheritable(c2pwrite)\n\u001b[0;32m   1360\u001b[0m \u001b[38;5;28;01mif\u001b[39;00m stderr \u001b[38;5;129;01mis\u001b[39;00m \u001b[38;5;28;01mNone\u001b[39;00m:\n",
      "File \u001b[1;32mD:\\ProgramFiles\\Anaconda\\Lib\\site-packages\\ipykernel\\iostream.py:311\u001b[0m, in \u001b[0;36mOutStream.fileno\u001b[1;34m(self)\u001b[0m\n\u001b[0;32m    309\u001b[0m     \u001b[38;5;28;01mreturn\u001b[39;00m \u001b[38;5;28mself\u001b[39m\u001b[38;5;241m.\u001b[39m_original_stdstream_copy\n\u001b[0;32m    310\u001b[0m \u001b[38;5;28;01melse\u001b[39;00m:\n\u001b[1;32m--> 311\u001b[0m     \u001b[38;5;28;01mraise\u001b[39;00m io\u001b[38;5;241m.\u001b[39mUnsupportedOperation(\u001b[38;5;124m\"\u001b[39m\u001b[38;5;124mfileno\u001b[39m\u001b[38;5;124m\"\u001b[39m)\n",
      "\u001b[1;31mUnsupportedOperation\u001b[0m: fileno"
     ]
    }
   ],
   "source": [
    "import pulp as pl\n",
    " \n",
    "# 定义一个模型，命名为 \"Model_3.1\"，求最大值\n",
    "model = pl.LpProblem(name=\"Model_3.1\", sense=pl.LpMaximize)\n",
    "\n",
    "# 定义两个决策变量，取值为整个实数域\n",
    "x = pl.LpVariable(name='x')\n",
    "y = pl.LpVariable(name='y')\n",
    " \n",
    "# 添加三个约束条件\n",
    "model += (2 * x + 3 * y - 6 >= 0)\n",
    "model += (x + y - 3 <= 0)\n",
    "model += (y - 2 <= 0)\n",
    " \n",
    "# 目标函数\n",
    "model += x + 3 * y\n",
    " \n",
    "# 求解\n",
    "status = model.solve(solver)\n",
    " \n",
    "# 打印结果\n",
    "print(f\"status: {model.status}, {pl.LpStatus[model.status]}\")\n",
    "print(f\"objective: {model.objective.value()}\")\n",
    " \n",
    "for var in model.variables():\n",
    "    print(f\"{var.name}: {var.value()}\")\n",
    " \n",
    "for name, constraint in model.constraints.items():\n",
    "    print(f\"{name}: {constraint.value()}\")\n"
   ]
  }
 ],
 "metadata": {
  "kernelspec": {
   "display_name": "Python 3 (ipykernel)",
   "language": "python",
   "name": "python3"
  },
  "language_info": {
   "codemirror_mode": {
    "name": "ipython",
    "version": 3
   },
   "file_extension": ".py",
   "mimetype": "text/x-python",
   "name": "python",
   "nbconvert_exporter": "python",
   "pygments_lexer": "ipython3",
   "version": "3.12.4"
  }
 },
 "nbformat": 4,
 "nbformat_minor": 5
}
