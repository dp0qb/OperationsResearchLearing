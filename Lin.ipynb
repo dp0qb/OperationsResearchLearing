{
 "cells": [
  {
   "cell_type": "markdown",
   "id": "1fed7931-ab66-4902-a67d-5732533f69b6",
   "metadata": {},
   "source": [
    "# Pulp解TSP问题"
   ]
  },
  {
   "cell_type": "code",
   "execution_count": 2,
   "id": "9dde354a-c95c-4a7c-bed5-26f2833ada4b",
   "metadata": {},
   "outputs": [],
   "source": [
    "import os\n",
    "import json\n",
    "import math\n",
    "import random\n",
    "import pulp as pl\n",
    "import numpy as np\n",
    "import pandas as pd\n",
    "from matplotlib import pyplot as plt\n",
    "\n",
    "def get_result(model):\n",
    "    print(f\"status: {model.status}, {pl.LpStatus[model.status]}\")\n",
    "    print(f\"objective: {model.objective.value()}\")\n",
    "    for var in model.variables():\n",
    "        print(f\"{var.name}: {var.value()}\")\n",
    "\n",
    "def distance(p_s, p_e):\n",
    "    return math.sqrt((p_s[0] - p_e[0]) ** 2 + (p_s[1] - p_e[1]) ** 2)"
   ]
  },
  {
   "cell_type": "code",
   "execution_count": null,
   "id": "04f243b5-da64-4370-b3fe-1273aadd7ca0",
   "metadata": {},
   "outputs": [],
   "source": [
    "def show_path(model, city_positions):\n",
    "    n = len(city_positions)\n",
    "    # print(f\"status: {model.status}, {pl.LpStatus[model.status]}\")\n",
    "    for i in city_positions:\n",
    "        plt.scatter(i[0], i[1])\n",
    "    # print(len(model.variables()))\n",
    "    # var_names = [x.name for x in model.variables()]\n",
    "    for i in range(n):\n",
    "        for j in range(n):\n",
    "            go = list(filter(lambda x: x.name==f\"x_{i}_{j}\", model.variables()))[0].value()\n",
    "            if go:\n",
    "                plt.plot([city_positions[i][0], city_positions[j][0]], [city_positions[i][1], city_positions[j][1]])\n",
    "                plt.text(city_positions[i][0], city_positions[i][1], \"f\")\n",
    "\n",
    "n = 50\n",
    "random.seed(0)\n",
    "city_positions = [(random.randint(0, 200), random.randint(0, 200)) for _ in range(n)]\n",
    "city_positions.append(city_positions[0])\n",
    "n += 1\n",
    "\n",
    "x = {(i, j): pl.LpVariable(name=f\"x_{i}_{j}\", cat=pl.LpBinary) for i in range(n) for j in range(n)}\n",
    "tsp = pl.LpProblem(name=\"TSP\", sense=pl.LpMinimize)\n",
    "tsp += pl.lpSum(x[i, j] * distance(city_positions[i], city_positions[j]) for i in range(n) for j in range(n))\n",
    "for i in range(n):\n",
    "    tsp += pl.lpSum(x[i, j] for j in range(n)) == 1\n",
    "for i in range(1, n):\n",
    "    tsp += pl.lpSum(x[j, i] for j in range(n)) == 1\n",
    "for i in range(n):\n",
    "    tsp += pl.lpSum(x[i, i]) == 0\n",
    "u = [pl.LpVariable(name=f\"{i}\", lowBound=1, upBound=n+1,cat=pl.LpInteger) for i in range(1, n+1)]\n",
    "for i in range(n-1):\n",
    "    for j in range(n):\n",
    "        if i != j:\n",
    "            tsp += u[i] - u[j] + n * x[i, j] <= n - 1\n",
    "\n",
    "tsp.solve()\n",
    "show_path(tsp, city_positions)"
   ]
  },
  {
   "cell_type": "code",
   "execution_count": 82,
   "id": "3de83574-80b4-42a2-9ffd-c7aac516b38e",
   "metadata": {
    "editable": true,
    "slideshow": {
     "slide_type": ""
    },
    "tags": []
   },
   "outputs": [],
   "source": [
    "n = 20\n",
    "random.seed(0)\n",
    "t_tour = [random.randint(200, 2880) for _ in range(n)]\n",
    "t_travel = [[random.randint(60, 480) for _ in range(n)] for _ in range(n)]"
   ]
  }
 ],
 "metadata": {
  "kernelspec": {
   "display_name": "Python 3 (ipykernel)",
   "language": "python",
   "name": "python3"
  },
  "language_info": {
   "codemirror_mode": {
    "name": "ipython",
    "version": 3
   },
   "file_extension": ".py",
   "mimetype": "text/x-python",
   "name": "python",
   "nbconvert_exporter": "python",
   "pygments_lexer": "ipython3",
   "version": "3.12.4"
  }
 },
 "nbformat": 4,
 "nbformat_minor": 5
}
