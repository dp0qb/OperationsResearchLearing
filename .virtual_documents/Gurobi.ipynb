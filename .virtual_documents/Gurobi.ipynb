import os
import json
import math
import random
import pulp as pl
import numpy as np
import pandas as pd
from matplotlib import pyplot as plt

def get_result(model):
    print(f"status: {model.status}, {pl.LpStatus[model.status]}")
    print(f"objective: {model.objective.value()}")
    for var in model.variables():
        print(f"{var.name}: {var.value()}")

def distance(p_s, p_e):
    return math.sqrt((p_s[0] - p_e[0]) ** 2 + (p_s[1] - p_e[1]) ** 2)


def show_path(model, city_positions):
    status = model.status
    if not status:
        print("Failed to solve!")
        return
    else:
        # print(model.variables())
        n = len(city_positions)
        for i in city_positions:
            plt.scatter(i[0], i[1])
        start_city = 0
        routes = list(filter(lambda x: x.value()==1 and "x" in x.name, model.variables()))
        # print(routes)
        sequence = 1
        while True:
            try:
                end_city = int(list(filter(lambda r: f"x_{start_city}_" in r.name, routes))[0].name.split("_")[-1])
                plt.plot([city_positions[start_city][0], city_positions[end_city][0]], [city_positions[start_city][1], city_positions[end_city][1]])
                plt.text(city_positions[start_city][0], city_positions[start_city][1], f"{sequence}")
                start_city = end_city
                sequence += 1
            except:
                break

def show(model, city_positions):
    n = len(city_positions)
    # print(f"status: {model.status}, {pl.LpStatus[model.status]}")
    for i in city_positions:
        plt.scatter(i[0], i[1])
    # print(len(model.variables()))
    # var_names = [x.name for x in model.variables()]
    for i in range(n):
        for j in range(n):
            go = list(filter(lambda x: x.name==f"x_{i}_{j}", model.variables()))[0].value()
            if go:
                plt.plot([city_positions[i][0], city_positions[j][0]], [city_positions[i][1], city_positions[j][1]])
                plt.text(city_positions[i][0]+i*.3, city_positions[i][1], "f")

solver = pl.GUROBI_CMD()
n = 20
random.seed(0)
city_positions = [(random.randint(0, 200), random.randint(0, 200)) for _ in range(n)]
city_positions.append(city_positions[0])
n += 1
x = {(i, j): pl.LpVariable(name=f"x_{i}_{j}", cat=pl.LpBinary) for i in range(n) for j in range(n)}
tsp = pl.LpProblem(name="TSP", sense=pl.LpMinimize)
tsp += pl.lpSum(x[i, j] * distance(city_positions[i], city_positions[j]) for i in range(n) for j in range(n))
for i in range(n-1):
    tsp += pl.lpSum(x[i, j] for j in range(n)) == 1
tsp += pl.lpSum(x[n-1, j] for j in range(n)) == 0
for i in range(1, n):
    tsp += pl.lpSum(x[j, i] for j in range(n)) == 1
for i in range(n):
    tsp += pl.lpSum(x[i, i]) == 0
u = [pl.LpVariable(name=f"u_{i}", lowBound=1, upBound=n,cat=pl.LpInteger) for i in range(1, n+1)]
for i in range(n-1):
    for j in range(n):
        if i != j:
            tsp += u[i] - u[j] + (n - 1) * x[i, j] <= n - 2

tsp.solve(solver)
show_path(tsp, city_positions)
print(city_positions)
print([i.name for i in tsp.variables() if "u" in i.name])
print([i.value() for i in tsp.variables() if "u" in i.name])
